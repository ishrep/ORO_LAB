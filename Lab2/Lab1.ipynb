{
  "nbformat": 4,
  "nbformat_minor": 0,
  "metadata": {
    "colab": {
      "name": "Untitled2.ipynb",
      "provenance": [],
      "authorship_tag": "ABX9TyPmkHql6Xbowjd4+EjZL4Y5",
      "include_colab_link": true
    },
    "kernelspec": {
      "name": "python3",
      "display_name": "Python 3"
    },
    "language_info": {
      "name": "python"
    }
  },
  "cells": [
    {
      "cell_type": "markdown",
      "metadata": {
        "id": "view-in-github",
        "colab_type": "text"
      },
      "source": [
        "<a href=\"https://colab.research.google.com/github/ishrep/ORO_LAB/blob/main/Lab1.ipynb\" target=\"_parent\"><img src=\"https://colab.research.google.com/assets/colab-badge.svg\" alt=\"Open In Colab\"/></a>"
      ]
    },
    {
      "cell_type": "markdown",
      "metadata": {
        "id": "WlWvYqekIf5W"
      },
      "source": [
        "# Linear programming using Scipy"
      ]
    },
    {
      "cell_type": "code",
      "metadata": {
        "id": "SL7EWsVVxnyy"
      },
      "source": [
        "from scipy.optimize import linprog\n",
        "import time"
      ],
      "execution_count": 1,
      "outputs": []
    },
    {
      "cell_type": "markdown",
      "metadata": {
        "id": "oOeJPXlR7888"
      },
      "source": [
        "## Question 1\n",
        "A firm is engaged in producing two products, A and B. Each unit of product A requires 2 kg of raw material and 4 labour hours for processing, whereas each unit of product B requires 3 kg of raw material and 3 hours of labour, of the same type. Every week, the firm has an availability of 60 kg of raw material and 96 labour hours. One unit of product A sold yields Rs. 40 and one unit of product B sold gives Rs. 35 as profit. Formulate this problem as a linear programming problem to determine as to how many units of each of the products should be produced per week so that the firm can earn the maximum profit."
      ]
    },
    {
      "cell_type": "code",
      "metadata": {
        "colab": {
          "base_uri": "https://localhost:8080/"
        },
        "id": "dUxoi5HG28rl",
        "outputId": "7ebf1e44-69cc-4c9d-d9e4-4a1bcb1cc623"
      },
      "source": [
        "c = [-40, -35]\n",
        "A = [[2, 3], [ 4, 3]]\n",
        "b = [60, 96]\n",
        "x1_bnds = (0, None)\n",
        "x2_bnds = (0, None)\n",
        "\n",
        "start_time = time.time()\n",
        "res = linprog(c, A,  b, bounds=(x1_bnds, x2_bnds),method = 'revised simplex')\n",
        "print(\"--- %s seconds ---\" % (time.time() - start_time))\n",
        "print(res) "
      ],
      "execution_count": 2,
      "outputs": [
        {
          "output_type": "stream",
          "text": [
            "--- 0.042763710021972656 seconds ---\n",
            "     con: array([], dtype=float64)\n",
            "     fun: -1000.0\n",
            " message: 'Optimization terminated successfully.'\n",
            "     nit: 2\n",
            "   slack: array([0., 0.])\n",
            "  status: 0\n",
            " success: True\n",
            "       x: array([18.,  8.])\n"
          ],
          "name": "stdout"
        }
      ]
    },
    {
      "cell_type": "markdown",
      "metadata": {
        "id": "t2KQLupmACwC"
      },
      "source": [
        "##Question 2\n",
        "The Agricultural research Institute suggested to a farmer to spread out at least 4800 kg of a special phosphate fertilizer and not less than 7200 kg of a special nitrogen fertilizer to raise productivity of crops in his fields. There are two sources for obtaining these − mixtures A and B. Both of these are available in bags weighing 100 kg each and they cost Rs. 40 and Rs. 24 respectively. Mixture A contains phosphate and nitrogen equivalent of 20 kg and 80 kg respectively, while mixture B contains these ingredients equivalent of 50 kg each.\n",
        "Write as a linear programming problem to determine how many bags of each type the farmer should buy in order to obtain the required fertilizer at a minimum cost.\n"
      ]
    },
    {
      "cell_type": "code",
      "metadata": {
        "colab": {
          "base_uri": "https://localhost:8080/"
        },
        "id": "gVC_94tYARVb",
        "outputId": "54956e13-2081-4dab-e1e2-93efa0a0e217"
      },
      "source": [
        "c = [40, 24]\n",
        "A = [[-20, -50], [-80, -50]]\n",
        "b = [-4800, -7200]\n",
        "x1_bnds = (0, None)\n",
        "x2_bnds = (0, None)\n",
        "start_time = time.time()\n",
        "res = linprog(c, A,  b, bounds=(x1_bnds, x2_bnds),method = 'revised simplex')\n",
        "print(\"--- %s seconds ---\" % (time.time() - start_time))\n",
        "print(res)"
      ],
      "execution_count": 3,
      "outputs": [
        {
          "output_type": "stream",
          "text": [
            "--- 0.004028797149658203 seconds ---\n",
            "     con: array([], dtype=float64)\n",
            "     fun: 3456.0\n",
            " message: 'Optimization terminated successfully.'\n",
            "     nit: 3\n",
            "   slack: array([2400.,    0.])\n",
            "  status: 0\n",
            " success: True\n",
            "       x: array([  0., 144.])\n"
          ],
          "name": "stdout"
        }
      ]
    },
    {
      "cell_type": "markdown",
      "metadata": {
        "id": "CmuP58fzBVdf"
      },
      "source": [
        "## Question 3\n",
        "A company manufactures two products A and B. These products are processed in the same machine. It takes 10 minutes to process one unit of product A and 2 minutes for each unit of product B and the machine operates for a maximum of 35 hours in a week. Product A requires 1 kg and B 0.5 kg of raw material per unit, the supply of which is 600 kg per week. Market constraint on product B is known to be minimum of 800 units every week. Product A costs Rs. 5 per unit and sold at Rs. 10. Product B costs Rs. 6 per unit and can be sold in the market at a unit price of Rs. 8. Determine the number of units of A and B per week to maximize the profit."
      ]
    },
    {
      "cell_type": "code",
      "metadata": {
        "colab": {
          "base_uri": "https://localhost:8080/"
        },
        "id": "tKLM4mXPBLrd",
        "outputId": "528af802-3538-4b87-f86f-33fa63bf3e79"
      },
      "source": [
        "c = [-5, -2]\n",
        "A = [[10, 2], [1,0.5]]\n",
        "b = [35*60, 600]\n",
        "x1_bnds = (0, None)\n",
        "x2_bnds = (0, None)\n",
        "start_time = time.time()\n",
        "res = linprog(c, A,  b, bounds=(x1_bnds, x2_bnds),method = 'revised simplex')\n",
        "print(\"--- %s seconds ---\" % (time.time() - start_time))\n",
        "print(res)"
      ],
      "execution_count": 4,
      "outputs": [
        {
          "output_type": "stream",
          "text": [
            "--- 0.0036377906799316406 seconds ---\n",
            "     con: array([], dtype=float64)\n",
            "     fun: -2100.0\n",
            " message: 'Optimization terminated successfully.'\n",
            "     nit: 2\n",
            "   slack: array([ 0., 75.])\n",
            "  status: 0\n",
            " success: True\n",
            "       x: array([   0., 1050.])\n"
          ],
          "name": "stdout"
        }
      ]
    },
    {
      "cell_type": "markdown",
      "metadata": {
        "id": "CDzmgAwytxxf"
      },
      "source": [
        "##Question 4\n",
        "\n",
        "An electric appliance company produces two products: refrigerators and ranges. Production takes place in two separate departments I and II. Refrigerators are produced in department I and ranges in department II. The company's two products are sold on a weekly basis. the weekly production cannot exceed 25 refrigerators and 35 ranges. the company regularly employs a total of 60 workers in the two departments. A refrigerator requires 2 man-weeks labour while a range requires 1 man-week labour. A refrigerator contributes a profit of Rs. 60 and range contributes a profit of Rs. 40. how many units of refrigerators and ranges should the company produce to realize the maximum profit?"
      ]
    },
    {
      "cell_type": "code",
      "metadata": {
        "id": "IXQkWIb-B35U",
        "colab": {
          "base_uri": "https://localhost:8080/"
        },
        "outputId": "1bbbc6a5-2be3-4213-cc4a-2d23d24556a2"
      },
      "source": [
        "c = [-60, -40]\n",
        "A = [[2, 1]]\n",
        "b = [60]\n",
        "x1_bnds = (0,25)\n",
        "x2_bnds = (0, 35)\n",
        "start_time = time.time()\n",
        "res = linprog(c, A,  b, bounds=(x1_bnds, x2_bnds),method = 'revised simplex')\n",
        "print(\"--- %s seconds ---\" % (time.time() - start_time))\n",
        "print(res)"
      ],
      "execution_count": 5,
      "outputs": [
        {
          "output_type": "stream",
          "text": [
            "--- 0.0040857791900634766 seconds ---\n",
            "     con: array([], dtype=float64)\n",
            "     fun: -2150.0\n",
            " message: 'Optimization terminated successfully.'\n",
            "     nit: 3\n",
            "   slack: array([0.])\n",
            "  status: 0\n",
            " success: True\n",
            "       x: array([12.5, 35. ])\n"
          ],
          "name": "stdout"
        }
      ]
    },
    {
      "cell_type": "markdown",
      "metadata": {
        "id": "r4GDMuLwu8tZ"
      },
      "source": [
        "## Question 5\n",
        "Minimize Z = 20X1 + 10X2<br>\n",
        "Subject to,<br>\n",
        "X1 + 2X2 ≤40<br>\n",
        "3X1 + 1X2 ≥30<br>\n",
        "4X1 + 3X2 ≥60<br>\n",
        "X1 ,X2 ≥0<br>\n"
      ]
    },
    {
      "cell_type": "code",
      "metadata": {
        "colab": {
          "base_uri": "https://localhost:8080/"
        },
        "id": "K96y3g7VulM9",
        "outputId": "23df7de6-0cff-48c9-db07-9edf4e045399"
      },
      "source": [
        "c = [20, 10]\n",
        "A = [[1, 2],[-3, -1],[-4, -3]]\n",
        "b = [40,-30,-60]\n",
        "x1_bnds = (0, None)\n",
        "x2_bnds = (0, None)\n",
        "\n",
        "start_time = time.time()\n",
        "res = linprog(c, A,  b, bounds=(x1_bnds, x2_bnds),method = 'revised simplex')\n",
        "print(\"--- %s seconds ---\" % (time.time() - start_time))\n",
        "print(res)  "
      ],
      "execution_count": 6,
      "outputs": [
        {
          "output_type": "stream",
          "text": [
            "--- 0.0036017894744873047 seconds ---\n",
            "     con: array([], dtype=float64)\n",
            "     fun: 240.0\n",
            " message: 'Optimization terminated successfully.'\n",
            "     nit: 2\n",
            "   slack: array([10.,  0.,  0.])\n",
            "  status: 0\n",
            " success: True\n",
            "       x: array([ 6., 12.])\n"
          ],
          "name": "stdout"
        }
      ]
    },
    {
      "cell_type": "markdown",
      "metadata": {
        "id": "1IMlPn9cwg5L"
      },
      "source": [
        "## Question 6\n",
        "Maximize Z = X1 +  X2 +3X3<br>\n",
        "Subject to,<br>\n",
        " 3X1 + 2X2 +X3 ≤300<br>\n",
        "2X1 + X2 +2X3  ≤200<br>\n",
        "X1 , X2 , X3 ≥0<br>\n"
      ]
    },
    {
      "cell_type": "code",
      "metadata": {
        "id": "8pbOzmpCvuwe",
        "colab": {
          "base_uri": "https://localhost:8080/"
        },
        "outputId": "32c9aaed-67d1-4aae-834c-125c26c0f601"
      },
      "source": [
        "c = [-1, -1, -3]\n",
        "A = [[3, 2, 1],[2, 1, 2]]\n",
        "b = [300,200]\n",
        "x1_bnds = (0, None)\n",
        "x2_bnds = (0, None)\n",
        "x3_bnds = (0, None)\n",
        "start_time = time.time()\n",
        "res = linprog(c, A,  b, bounds=(x1_bnds, x2_bnds,x3_bnds),method = 'revised simplex')\n",
        "print(\"--- %s seconds ---\" % (time.time() - start_time))\n",
        "print(res)"
      ],
      "execution_count": 7,
      "outputs": [
        {
          "output_type": "stream",
          "text": [
            "--- 0.0032024383544921875 seconds ---\n",
            "     con: array([], dtype=float64)\n",
            "     fun: -300.0\n",
            " message: 'Optimization terminated successfully.'\n",
            "     nit: 1\n",
            "   slack: array([200.,   0.])\n",
            "  status: 0\n",
            " success: True\n",
            "       x: array([  0.,   0., 100.])\n"
          ],
          "name": "stdout"
        }
      ]
    },
    {
      "cell_type": "code",
      "metadata": {
        "id": "9sMzSh9ayUgz"
      },
      "source": [
        ""
      ],
      "execution_count": null,
      "outputs": []
    }
  ]
}
