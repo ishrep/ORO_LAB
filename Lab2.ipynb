{
  "nbformat": 4,
  "nbformat_minor": 0,
  "metadata": {
    "colab": {
      "name": "Lab2.ipynb",
      "provenance": [],
      "authorship_tag": "ABX9TyOSfxXg9lTu66Pwgn7wuCrq",
      "include_colab_link": true
    },
    "kernelspec": {
      "name": "python3",
      "display_name": "Python 3"
    },
    "language_info": {
      "name": "python"
    }
  },
  "cells": [
    {
      "cell_type": "markdown",
      "metadata": {
        "id": "view-in-github",
        "colab_type": "text"
      },
      "source": [
        "<a href=\"https://colab.research.google.com/github/ishrep/ORO_LAB/blob/main/Lab2.ipynb\" target=\"_parent\"><img src=\"https://colab.research.google.com/assets/colab-badge.svg\" alt=\"Open In Colab\"/></a>"
      ]
    },
    {
      "cell_type": "markdown",
      "metadata": {
        "id": "wI0_0tR9V-_i"
      },
      "source": [
        "# Integer Programming Problems"
      ]
    },
    {
      "cell_type": "code",
      "metadata": {
        "id": "QSnVYmUTSGJD"
      },
      "source": [
        "import cvxpy as cp"
      ],
      "execution_count": 6,
      "outputs": []
    },
    {
      "cell_type": "markdown",
      "metadata": {
        "id": "bSVdvuexSH7z"
      },
      "source": [
        "## Question 1\n",
        "\n",
        "![image.png](data:image/png;base64,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)"
      ]
    },
    {
      "cell_type": "code",
      "metadata": {
        "colab": {
          "base_uri": "https://localhost:8080/"
        },
        "id": "BRDr68BuSHZP",
        "outputId": "a992edcb-95e0-4e6c-f977-c238b1230ea8"
      },
      "source": [
        "x1 = cp.Variable(integer=True)\n",
        "x2 = cp.Variable(integer=True)\n",
        "\n",
        "constraints = [-x1 + (3*x2) <= 6,\n",
        "               7*x1 + x2 <= 35,\n",
        "               x1>=0,\n",
        "               x2>=0]\n",
        "\n",
        "obj = cp.Maximize((7*x1)+(10*x2))\n",
        "\n",
        "prob = cp.Problem(obj, constraints)\n",
        "prob.solve()\n",
        "\n",
        "print(\"x1:\", x1.value)\n",
        "print(\"x2:\", x2.value)\n",
        "print(\"obj:\",prob.value)"
      ],
      "execution_count": 7,
      "outputs": [
        {
          "output_type": "stream",
          "name": "stdout",
          "text": [
            "x1: 4.0\n",
            "x2: 3.0\n",
            "obj: 58.0\n"
          ]
        }
      ]
    },
    {
      "cell_type": "markdown",
      "metadata": {
        "id": "FO0AMagLSy_N"
      },
      "source": [
        "## Question 2\n",
        "![image.png](data:image/png;base64,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)"
      ]
    },
    {
      "cell_type": "code",
      "metadata": {
        "colab": {
          "base_uri": "https://localhost:8080/"
        },
        "id": "fe8RYUDnSsA4",
        "outputId": "39b16ea6-efa9-4cf4-8981-fa3ea7c8a110"
      },
      "source": [
        "x1 = cp.Variable(integer=True)\n",
        "x2 = cp.Variable(integer=True)\n",
        "\n",
        "constraints1 = [x1 + x2 <= 6,\n",
        "               5*x1 + 9*x2 <= 45,\n",
        "               x1>=0,\n",
        "               x2>=0]\n",
        "\n",
        "obj1 = cp.Maximize((5*x1)+(8*x2))\n",
        "\n",
        "prob1 = cp.Problem(obj1, constraints1)\n",
        "prob1.solve()\n",
        "\n",
        "print(\"x1:\", x1.value)\n",
        "print(\"x2:\", x2.value)\n",
        "print(\"obj:\",prob1.value)"
      ],
      "execution_count": 8,
      "outputs": [
        {
          "output_type": "stream",
          "name": "stdout",
          "text": [
            "x1: 0.0\n",
            "x2: 5.0\n",
            "obj: 40.0\n"
          ]
        }
      ]
    },
    {
      "cell_type": "markdown",
      "metadata": {
        "id": "Js-leJTnTWxp"
      },
      "source": [
        "## Question 3\n",
        "A machine is used to produce two interchangeable products. The daily capacity of the\n",
        "machine can produce at most 20 units of product 1 and 10 units of product 2. Alternatively,\n",
        "       the machine can be adjusted to produce at most 12 units of product 1 and 25\n",
        "       units of product 2 daily. Market analysis shows that the maximum daily demand for the\n",
        "       two products combined is 35 units. Given that the unit profits for the two respective\n",
        "       products are $10 and $12, which of the two machine settings should be selected? \n",
        "       Formulate the problem as an IPP and find the optimum.\n"
      ]
    },
    {
      "cell_type": "markdown",
      "metadata": {
        "id": "XSESkNcmt__k"
      },
      "source": [
        "#### Setting 1\n"
      ]
    },
    {
      "cell_type": "code",
      "metadata": {
        "colab": {
          "base_uri": "https://localhost:8080/"
        },
        "id": "jWk2IcJtTR9f",
        "outputId": "082b3831-2d6c-424c-fefa-29de305e2945"
      },
      "source": [
        "x1 = cp.Variable(integer=True)\n",
        "x2 = cp.Variable(integer=True)\n",
        "\n",
        "constraints1 = [x1 + x2 <= 35,\n",
        "               x1<= 20,\n",
        "               x2<=10,\n",
        "               x1>=0,\n",
        "               x2>=0]\n",
        "\n",
        "obj1 = cp.Maximize((10*x1)+(12*x2))\n",
        "\n",
        "prob1 = cp.Problem(obj1, constraints1)\n",
        "prob1.solve()\n",
        "\n",
        "print(\"x1:\", x1.value)\n",
        "print(\"x2:\", x2.value)\n",
        "print(\"obj:\",prob1.value)"
      ],
      "execution_count": 10,
      "outputs": [
        {
          "output_type": "stream",
          "name": "stdout",
          "text": [
            "x1: 20.0\n",
            "x2: 10.0\n",
            "obj: 320.0\n"
          ]
        }
      ]
    },
    {
      "cell_type": "markdown",
      "metadata": {
        "id": "tkA0_DDPuC1c"
      },
      "source": [
        "#### Setting 2\n"
      ]
    },
    {
      "cell_type": "code",
      "metadata": {
        "id": "osDNQVUTVfcm",
        "colab": {
          "base_uri": "https://localhost:8080/"
        },
        "outputId": "dcf62435-4fb8-421b-891e-2b220b0d64c9"
      },
      "source": [
        "x1 = cp.Variable(integer=True)\n",
        "x2 = cp.Variable(integer=True)\n",
        "\n",
        "constraints1 = [x1 + x2 <= 35,\n",
        "               x1<=12,\n",
        "               x2<=25,\n",
        "               x1>=0,\n",
        "               x2>=0]\n",
        "\n",
        "obj1 = cp.Maximize((10*x1)+(12*x2))\n",
        "\n",
        "prob1 = cp.Problem(obj1, constraints1)\n",
        "prob1.solve()\n",
        "\n",
        "print(\"x1:\", x1.value)\n",
        "print(\"x2:\", x2.value)\n",
        "print(\"obj:\",prob1.value)"
      ],
      "execution_count": 14,
      "outputs": [
        {
          "output_type": "stream",
          "name": "stdout",
          "text": [
            "x1: 10.0\n",
            "x2: 25.0\n",
            "obj: 400.0\n"
          ]
        }
      ]
    },
    {
      "cell_type": "markdown",
      "metadata": {
        "id": "Ipju1-QVuFYE"
      },
      "source": [
        "#### Setting 2 returns higher profit so it should be selected"
      ]
    }
  ]
}